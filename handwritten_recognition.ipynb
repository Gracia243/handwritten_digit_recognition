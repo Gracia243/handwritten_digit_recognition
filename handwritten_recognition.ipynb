{
 "cells": [
  {
   "cell_type": "markdown",
   "metadata": {},
   "source": [
    "# Handwritten Digit Recognition using CNN"
   ]
  },
  {
   "cell_type": "markdown",
   "metadata": {},
   "source": [
    "## Import necessary Librairies"
   ]
  },
  {
   "cell_type": "code",
   "execution_count": 1,
   "metadata": {},
   "outputs": [],
   "source": [
    "import tensorflow as tf\n",
    "from tensorflow.keras import layers, models\n",
    "from tensorflow.keras.datasets import mnist\n",
    "import matplotlib.pyplot as plt\n",
    "import numpy as np"
   ]
  },
  {
   "cell_type": "markdown",
   "metadata": {},
   "source": [
    "##### __Explanation__:\n",
    "- `tensorflow` and `keras`: Used for building and training the Convutional Neural Network (CNN).\n",
    "\n",
    "- `minst`: This is the dataset we are using, which contains handwritten digits.\n",
    "\n",
    "- `matplotlib.pyplot`: Used for visualising training results and sample predictions.\n",
    "\n",
    "- `numpy`: Helps with numerical operations."
   ]
  },
  {
   "cell_type": "markdown",
   "metadata": {},
   "source": [
    "## Load and Preprocess the Data"
   ]
  },
  {
   "cell_type": "code",
   "execution_count": 2,
   "metadata": {},
   "outputs": [],
   "source": [
    "# Load the MNIST dataset\n",
    "(X_train, y_train), (X_test, y_test) = mnist.load_data()\n",
    "\n",
    "# Preprocessing: Reshape and normalise the data\n",
    "X_train = X_train.reshape((X_train.shape[0], 28, 28, 1)).astype('float32') / 255\n",
    "X_test = X_test.reshape((X_test.shape[0], 28, 28, 1)).astype('float32') / 255"
   ]
  },
  {
   "cell_type": "markdown",
   "metadata": {},
   "source": [
    "##### __Explanation__:\n",
    "- `mnist.load_data()`: Loads the dataset, which contains 60,000 training images and 10,000 test images.\n",
    "\n",
    "- `X_train`, `X_test`: These contain the grayscale images of digits (28x28 pixels).\n",
    "\n",
    "- `y_train`, `y_test`: Labels (0-9) corresponding to each image.\n",
    "\n",
    "- __Preprocessing__:\n",
    "\n",
    "    - __Reshape__: CNN require 3D input (height, width, channels). We reshape from `(28,28)` to `(28,28,1)`, where `1` represents the grayscale channel.\n",
    "    \n",
    "    - __Normalise__: Pixel values (0-255) are divided by 255 to scale them between `0-1`, which improves model performance."
   ]
  },
  {
   "cell_type": "markdown",
   "metadata": {},
   "source": [
    "## Build the CNN Model"
   ]
  },
  {
   "cell_type": "code",
   "execution_count": 3,
   "metadata": {},
   "outputs": [
    {
     "name": "stderr",
     "output_type": "stream",
     "text": [
      "c:\\Users\\graci\\anaconda3\\Lib\\site-packages\\keras\\src\\layers\\convolutional\\base_conv.py:107: UserWarning: Do not pass an `input_shape`/`input_dim` argument to a layer. When using Sequential models, prefer using an `Input(shape)` object as the first layer in the model instead.\n",
      "  super().__init__(activity_regularizer=activity_regularizer, **kwargs)\n"
     ]
    }
   ],
   "source": [
    "model = models.Sequential([\n",
    "    layers.Conv2D(32, (3, 3), activation='relu', input_shape=(28, 28, 1)),\n",
    "    layers.MaxPooling2D((2, 2)),\n",
    "    layers.Conv2D(64, (3, 3), activation='relu'),\n",
    "    layers.MaxPooling2D((2, 2)),\n",
    "    layers.Conv2D(64, (3, 3), activation='relu'),\n",
    "    layers.Flatten(),\n",
    "    layers.Dense(64, activation='relu'),\n",
    "    layers.Dense(10, activation='softmax') # 10 classes for digits 0-9\n",
    "])"
   ]
  },
  {
   "cell_type": "markdown",
   "metadata": {},
   "source": [
    "##### __Explanation__:\n",
    "We build a __Convolutional Neural Network (CNN):__\n",
    "\n",
    "1. `Conv2D(32, (3,3), activation='relu')`:\n",
    "\n",
    "    - A convolutional layer with 32 filters of size __3x3__.\n",
    "\n",
    "    - Extracts key features (edges, curves, etc.).\n",
    "\n",
    "    - Uses __ReLU activation__ to introduce non-linearity.\n",
    "\n",
    "2. `MaxPooling2D((2,2))`:\n",
    "\n",
    "    - A pooling layer that reduces the size of feature maps (downsampling).\n",
    "\n",
    "    - Helps in reducing computational cost and prevents overfitting.\n",
    "\n",
    "3. `Conv2D(64, (3,3), activation='relu') + MaxPooling2D((2,2))`:\n",
    "\n",
    "    - Another convolutional and pooling layer to extract more complex features.\n",
    "\n",
    "4. `Flatten()`:\n",
    "\n",
    "    - Converts the 2D feature maps into a 1D vector.\n",
    "\n",
    "5. `Dense(64, activation='relu')`:\n",
    "\n",
    "    - A fully connected (FC) layer with 64 neurons.\n",
    "\n",
    "6. `Dense(10, activation='softmax)`:\n",
    "\n",
    "    - The output layer with __10 neurons (0-9)__.\n",
    "    \n",
    "    - Uses __Softmax activation__, which converts logits into probability distributions."
   ]
  },
  {
   "cell_type": "markdown",
   "metadata": {},
   "source": [
    "## Compile the Model"
   ]
  },
  {
   "cell_type": "code",
   "execution_count": 4,
   "metadata": {},
   "outputs": [],
   "source": [
    "model.compile(optimizer='adam',\n",
    "              loss='sparse_categorical_crossentropy',\n",
    "              metrics=['accuracy'])"
   ]
  },
  {
   "cell_type": "markdown",
   "metadata": {},
   "source": [
    "##### __Explanation__:\n",
    "\n",
    "- `Optimizer: adam`:\n",
    "\n",
    "    - Adaptive optimiser that adjusts learning rates dynamically.\n",
    "\n",
    "- `Loss function: 'sparse_categorical_crossentropy'`:\n",
    "\n",
    "    - Used for multi-class classification when labels are integers (0-9).\n",
    "\n",
    "- `Metric: 'accuracy'`:\n",
    "\n",
    "    - Measures how well the model is performing."
   ]
  },
  {
   "cell_type": "markdown",
   "metadata": {},
   "source": [
    "## Train the Model"
   ]
  },
  {
   "cell_type": "code",
   "execution_count": 5,
   "metadata": {},
   "outputs": [
    {
     "name": "stdout",
     "output_type": "stream",
     "text": [
      "Epoch 1/5\n",
      "\u001b[1m1500/1500\u001b[0m \u001b[32m━━━━━━━━━━━━━━━━━━━━\u001b[0m\u001b[37m\u001b[0m \u001b[1m22s\u001b[0m 12ms/step - accuracy: 0.8730 - loss: 0.4130 - val_accuracy: 0.9803 - val_loss: 0.0686\n",
      "Epoch 2/5\n",
      "\u001b[1m1500/1500\u001b[0m \u001b[32m━━━━━━━━━━━━━━━━━━━━\u001b[0m\u001b[37m\u001b[0m \u001b[1m17s\u001b[0m 12ms/step - accuracy: 0.9836 - loss: 0.0551 - val_accuracy: 0.9793 - val_loss: 0.0688\n",
      "Epoch 3/5\n",
      "\u001b[1m1500/1500\u001b[0m \u001b[32m━━━━━━━━━━━━━━━━━━━━\u001b[0m\u001b[37m\u001b[0m \u001b[1m17s\u001b[0m 12ms/step - accuracy: 0.9876 - loss: 0.0381 - val_accuracy: 0.9872 - val_loss: 0.0447\n",
      "Epoch 4/5\n",
      "\u001b[1m1500/1500\u001b[0m \u001b[32m━━━━━━━━━━━━━━━━━━━━\u001b[0m\u001b[37m\u001b[0m \u001b[1m17s\u001b[0m 12ms/step - accuracy: 0.9906 - loss: 0.0282 - val_accuracy: 0.9880 - val_loss: 0.0452\n",
      "Epoch 5/5\n",
      "\u001b[1m1500/1500\u001b[0m \u001b[32m━━━━━━━━━━━━━━━━━━━━\u001b[0m\u001b[37m\u001b[0m \u001b[1m17s\u001b[0m 12ms/step - accuracy: 0.9932 - loss: 0.0231 - val_accuracy: 0.9891 - val_loss: 0.0399\n"
     ]
    }
   ],
   "source": [
    "history = model.fit(X_train, y_train, epochs=5, validation_split=0.2)"
   ]
  },
  {
   "cell_type": "markdown",
   "metadata": {},
   "source": [
    "##### __Explanation__:\n",
    "\n",
    "- `fit(X_train, y_train, epoch=5, validation_split=0.2)`:\n",
    "\n",
    "    - Trains the model for __5 epochs__.\n",
    "\n",
    "    - Uses __80%__ of the data for training and __20%__ for validation."
   ]
  },
  {
   "cell_type": "markdown",
   "metadata": {},
   "source": [
    "## Evaluate the Model"
   ]
  },
  {
   "cell_type": "code",
   "execution_count": 6,
   "metadata": {},
   "outputs": [
    {
     "name": "stdout",
     "output_type": "stream",
     "text": [
      "\u001b[1m313/313\u001b[0m \u001b[32m━━━━━━━━━━━━━━━━━━━━\u001b[0m\u001b[37m\u001b[0m \u001b[1m2s\u001b[0m 6ms/step - accuracy: 0.9838 - loss: 0.0485\n",
      "Test accuracy: 0.9873999953269958\n"
     ]
    }
   ],
   "source": [
    "test_loss, test_acc = model.evaluate(X_test, y_test)\n",
    "print(f\"Test accuracy: {test_acc}\")"
   ]
  },
  {
   "cell_type": "markdown",
   "metadata": {},
   "source": [
    "##### __Explanation__:\n",
    "\n",
    "- Test the model on __unseen test data__ and prints accuracy.\n",
    "\n",
    "- This ensures the model generalises well to new handwritten digits."
   ]
  },
  {
   "cell_type": "markdown",
   "metadata": {},
   "source": [
    "## Plot Training History"
   ]
  },
  {
   "cell_type": "code",
   "execution_count": 7,
   "metadata": {},
   "outputs": [
    {
     "data": {
      "image/png": "[encoded data removed]",
      "text/plain": [
       "<Figure size 640x480 with 1 Axes>"
      ]
     },
     "metadata": {},
     "output_type": "display_data"
    }
   ],
   "source": [
    "plt.plot(history.history['accuracy'], label='Training Accuracy')\n",
    "plt.plot(history.history['val_accuracy'], label='Validation Accuracy')\n",
    "plt.xlabel('Epoch')\n",
    "plt.ylabel('Accuracy')\n",
    "plt.legend(loc='lower right')\n",
    "plt.show()"
   ]
  },
  {
   "cell_type": "markdown",
   "metadata": {},
   "source": [
    "##### __Explanation__:\n",
    "\n",
    "- Plots the accuracy over epochs.\n",
    "\n",
    "- Helps us understand how well the model is learning."
   ]
  },
  {
   "cell_type": "markdown",
   "metadata": {},
   "source": [
    "## Display Sample Predictions"
   ]
  },
  {
   "cell_type": "code",
   "execution_count": 8,
   "metadata": {},
   "outputs": [
    {
     "name": "stdout",
     "output_type": "stream",
     "text": [
      "\u001b[1m1/1\u001b[0m \u001b[32m━━━━━━━━━━━━━━━━━━━━\u001b[0m\u001b[37m\u001b[0m \u001b[1m0s\u001b[0m 187ms/step\n"
     ]
    },
    {
     "data": {
      "image/png": "[encoded data removed]",
      "text/plain": [
       "<Figure size 1000x200 with 5 Axes>"
      ]
     },
     "metadata": {},
     "output_type": "display_data"
    }
   ],
   "source": [
    "num_samples = 5\n",
    "sample_images = X_test[:num_samples]\n",
    "sample_labels = y_test[:num_samples]\n",
    "predictions = np.argmax(model.predict(sample_images), axis=1)\n",
    "\n",
    "plt.figure(figsize=(10, 2))\n",
    "for i in range(num_samples):\n",
    "    plt.subplot(1, num_samples, i +1)\n",
    "    plt.imshow(sample_images[i].reshape(28, 28), cmap='gray')\n",
    "    plt.title(f\"Pred: {predictions[i]}\")\n",
    "    plt.axis('off')\n",
    "plt.show()"
   ]
  },
  {
   "cell_type": "markdown",
   "metadata": {},
   "source": [
    "##### __Explanation__:\n",
    "\n",
    "- Selects __5 sample images__ from the test set.\n",
    "\n",
    "- Uses the trained model to predict the digit.\n",
    "\n",
    "- Plots images along with their predicted labels."
   ]
  }
 ],
 "metadata": {
  "kernelspec": {
   "display_name": "base",
   "language": "python",
   "name": "python3"
  },
  "language_info": {
   "codemirror_mode": {
    "name": "ipython",
    "version": 3
   },
   "file_extension": ".py",
   "mimetype": "text/x-python",
   "name": "python",
   "nbconvert_exporter": "python",
   "pygments_lexer": "ipython3",
   "version": "3.11.7"
  }
 },
 "nbformat": 4,
 "nbformat_minor": 2
}
